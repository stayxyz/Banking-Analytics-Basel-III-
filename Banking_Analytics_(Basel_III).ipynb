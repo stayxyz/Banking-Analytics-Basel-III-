{
  "nbformat": 4,
  "nbformat_minor": 0,
  "metadata": {
    "colab": {
      "name": "Banking Analytics (Basel III).ipynb",
      "provenance": [],
      "collapsed_sections": [],
      "include_colab_link": true
    },
    "kernelspec": {
      "name": "python3",
      "display_name": "Python 3"
    }
  },
  "cells": [
    {
      "cell_type": "markdown",
      "metadata": {
        "id": "view-in-github",
        "colab_type": "text"
      },
      "source": [
        "<a href=\"https://colab.research.google.com/github/stayxyz/Banking-Analytics-Basel-III-/blob/master/Banking_Analytics_(Basel_III).ipynb\" target=\"_parent\"><img src=\"https://colab.research.google.com/assets/colab-badge.svg\" alt=\"Open In Colab\"/></a>"
      ]
    },
    {
      "cell_type": "markdown",
      "metadata": {
        "id": "mVfImgxCqd7u",
        "colab_type": "text"
      },
      "source": [
        "\n",
        "#                         Appendix\n",
        "\n",
        "\n",
        "\n",
        "## Colab Link https://colab.research.google.com/drive/1kJVibArE7uHwQLN2ykwNEXF7Pw9MQgjN"
      ]
    },
    {
      "cell_type": "markdown",
      "metadata": {
        "id": "SS3pc0K6oQc-",
        "colab_type": "text"
      },
      "source": [
        "# 1.0 Initiate the Data File "
      ]
    },
    {
      "cell_type": "code",
      "metadata": {
        "id": "x0kOq1U2gEa9",
        "colab_type": "code",
        "colab": {
          "base_uri": "https://localhost:8080/",
          "height": 85
        },
        "outputId": "dfb55c10-ba3b-4888-ff03-289876a946f9"
      },
      "source": [
        "import numpy as np\n",
        "!gdown https://drive.google.com/uc?id=1dkEHvr6w6-4o4aTebCLwT6k0kI59tY0l\n",
        "import pandas as pd\n",
        "Bankdata = pd.ExcelFile('/content/Dataset.xlsx')\n",
        "Bond = pd.read_excel(Bankdata, 'Bond')\n",
        "Mortgage = pd.read_excel(Bankdata, 'Mortgage')\n",
        "Loan = pd.read_excel(Bankdata, 'RetailLoan')"
      ],
      "execution_count": null,
      "outputs": [
        {
          "output_type": "stream",
          "text": [
            "Downloading...\n",
            "From: https://drive.google.com/uc?id=1dkEHvr6w6-4o4aTebCLwT6k0kI59tY0l\n",
            "To: /content/Dataset.xlsx\n",
            "17.0MB [00:00, 46.6MB/s]\n"
          ],
          "name": "stdout"
        }
      ]
    },
    {
      "cell_type": "markdown",
      "metadata": {
        "id": "QZ9Ph4ML0JMl",
        "colab_type": "text"
      },
      "source": [
        "#1.1 Calculate the Current Bond Price\n",
        "\n",
        "##1.1.1 Functions to Calculate the Bond Price\n"
      ]
    },
    {
      "cell_type": "markdown",
      "metadata": {
        "id": "jqk4Y3NCRDJP",
        "colab_type": "text"
      },
      "source": [
        "$$\n",
        "Bond Price = Coupon \\cdot \\frac{1-(1+r)^{-n}}{r} + \\frac{FaceV}{(1+r)^{n}} \n",
        "$$\n",
        "*where*\n",
        "$$\n",
        "Coupon = YearlyRate \\cdot FaceValue\n",
        "$$\n",
        "\n",
        "\n",
        "$$\n",
        "r = Discount Rate\n",
        "$$\n",
        "\n",
        "$$ n = Time2Maturity $$\n",
        "\n",
        "\n",
        "$$FaceV = Principle$$\n",
        "\n",
        "\n",
        "**Notice that for zero coupon bonds, \"Remainning Coupon\" = 0**\n",
        "\\\n",
        "\n",
        "$$Zero Coupon Bond = \\frac{FaceV}{(1+r)^{n}} $$\n",
        "\n",
        "\n",
        "\n",
        "\n",
        "\n"
      ]
    },
    {
      "cell_type": "code",
      "metadata": {
        "id": "YTyMgFl6ypZH",
        "colab_type": "code",
        "colab": {}
      },
      "source": [
        "# Function to determine discout rate \n",
        "\n",
        "def discount_deter (Maturity):\n",
        "  #As of September 26th, 2019\n",
        "  short_term_rate = 1.58/100  #1 to 3 years \n",
        "  medium_term_rate = 1.43/100 #3 to 5 years \n",
        "  relative_long_term_rate = 1.37/100 #5 to 10 years\n",
        "  long_term_rate = 1.52/100 #over 10 years\n",
        "  if Maturity <= 3: \n",
        "    disr =  short_term_rate\n",
        "  elif (Maturity > 3) and (Maturity <= 5):\n",
        "    disr =  medium_term_rate\n",
        "  elif (Maturity >5) and (Maturity <= 10):\n",
        "    disr =   relative_long_term_rate\n",
        "  else:\n",
        "    disr =  long_term_rate\n",
        "    \n",
        "  return disr\n",
        "\n",
        "# Function to calculate the bond prices\n",
        "\n",
        "def Price_cal (npay,yrate,Time,FaceV):\n",
        "  \n",
        "  # Handle 0 coupon bond\n",
        "  if npay == 0: \n",
        "    disr = discount_deter(Time)\n",
        "    output = FaceV/((1+disr) ** Time) \n",
        "    \n",
        "  # Handle normal coupon bond\n",
        "  elif npay > 0:\n",
        "    disr = discount_deter(Time)\n",
        "    coupon = yrate/100* FaceV\n",
        "    output = -np.pv(disr,Time,coupon,FaceV)\n",
        "  else : \n",
        "    print ('error')\n",
        "  \n",
        "  return output\n",
        "    "
      ],
      "execution_count": null,
      "outputs": []
    },
    {
      "cell_type": "markdown",
      "metadata": {
        "id": "U-jCNMEHPs9p",
        "colab_type": "text"
      },
      "source": [
        "## 1.1.2 Loop though the Data Set to Calculate the Bond Price "
      ]
    },
    {
      "cell_type": "code",
      "metadata": {
        "id": "9kir1LMJ-qJI",
        "colab_type": "code",
        "colab": {}
      },
      "source": [
        "Stop = max(Bond.id)\n",
        "CurrPrice = []\n",
        "TotalPrice = []\n",
        "for index, row in Bond.iterrows():\n",
        "  if row['id'] <= Stop:\n",
        "    price = Price_cal(row['CouponsRemaining'], row['YearlyRate'], \n",
        "                      row['Time2Maturity'], row['Principal'])\n",
        "    CurrPrice.append(price)\n",
        "    # Since Professor announced that those prices are in cents\n",
        "    TotalPrice.append(price*row['BondsHeld']/100)\n",
        "  else: \n",
        "    break\n",
        "    \n",
        "    \n",
        "## Attach Saved result to data frame\n",
        "Bond['CurrentPrice'] = CurrPrice\n",
        "Bond['TotalPrice'] = TotalPrice\n",
        "   "
      ],
      "execution_count": null,
      "outputs": []
    },
    {
      "cell_type": "markdown",
      "metadata": {
        "id": "-Mmjjs8wExeB",
        "colab_type": "text"
      },
      "source": [
        "##1.1.3 Extract the Calculation Result "
      ]
    },
    {
      "cell_type": "code",
      "metadata": {
        "id": "EhrsmHCCE6ea",
        "colab_type": "code",
        "colab": {
          "base_uri": "https://localhost:8080/",
          "height": 34
        },
        "outputId": "65c00bd9-8410-4619-b0ae-983e5a855a03"
      },
      "source": [
        "print(sum(Bond['TotalPrice']))"
      ],
      "execution_count": null,
      "outputs": [
        {
          "output_type": "stream",
          "text": [
            "52605441714.425255\n"
          ],
          "name": "stdout"
        }
      ]
    },
    {
      "cell_type": "markdown",
      "metadata": {
        "id": "alTI34mI3cg6",
        "colab_type": "text"
      },
      "source": [
        "#1.2 Calculate the Provison & Capital Requirements in each product "
      ]
    },
    {
      "cell_type": "markdown",
      "metadata": {
        "id": "2zeSQXwUFTRz",
        "colab_type": "text"
      },
      "source": [
        "In this section, we will loop through the dataset of Bond, Mortgages, and Other Retail Loans. during the iterations, we will calculate the Provision, RWA under Standarized Appraoch, RWA under IRB Apporach, Capital Requirement under Standarized Appraoch, Capital Requirement under IRB Apporach for each business line. Some of the calculation results will be used in Section 1.3"
      ]
    },
    {
      "cell_type": "markdown",
      "metadata": {
        "id": "ycsiHtaXtU1l",
        "colab_type": "text"
      },
      "source": [
        "##1.2.1 Initiate Constant Parameters and Functions that Required in the Calculation Process\n"
      ]
    },
    {
      "cell_type": "markdown",
      "metadata": {
        "id": "0g7J2WLVnThZ",
        "colab_type": "text"
      },
      "source": [
        "Formulas below are the function we need to use to calculate the results\n",
        "\n",
        "\n",
        "$$\n",
        "Provision = PD \\cdot LGD \\cdot EAD$$\n",
        "\n",
        "\n",
        "\\\n",
        "\n",
        "- EAD of Bond = Current Bond Price\n",
        "\n",
        "- EAD of Mortgages = Unpaid Principle - Collectral \n",
        "\n",
        "- EAD of Loans = Unpaid Principle \n",
        "\n",
        "Where\n",
        "\n",
        "$$ \n",
        "Unpaid Principle = Original Balance \\cdot (1 + Period Rate) ^ {npaid} - Pmt \\cdot [\\frac{{(1 + Period Rate})^{npaid} - 1}{Period Rate}] $$\n",
        "\n",
        "\\\n",
        "\n",
        "- PD = Max(Given PD, PD floor)\n",
        "\n",
        "- LGD = Max(Given LGD, LGD floor)\n",
        "\n",
        "\n",
        "\\\n",
        "\n",
        "Formulas for Calculating RWA and Capital Requirements:\n",
        "\n",
        "$$\n",
        "K = LGD \\cdot \\left\\{ N\\left( \\sqrt{\\frac{1}{1-R}} \\cdot N^{-1}(PD) + \\sqrt{\\frac{R}{1-R}} \\cdot N^{-1}(0.999) \\right) - PD \\right\\} \\left( \\frac{1 + (M - 2.5)b}{1 - 1.5b}\\right)\n",
        "$$\n",
        "\n",
        "Parameters for Mortgages\n",
        "- Mortgages: $R = 0.15$\n",
        "\n",
        "Parameters for Other Retail Loans\n",
        "\n",
        "- Other retail: $R = 0.03 \\left( \\frac{1 - e^{-35PD}}{1 - e^{-35}} \\right) + 0.16 \\left( 1 - \\frac{1 - e^{-35PD}}{1 - e^{-35}} \\right)$\n",
        "\n",
        "Parameters for Bonds\n",
        "- Bond exposures $ R = 0.12 \\left( \\frac{1 - e^{-50PD}}{1 - e^{-50}} \\right) + 0.24 \\left( 1 - \\frac{1 - e^{-50PD}}{1 - e^{-50}} \\right)$\n",
        "\n",
        "- $b  = (0.11852 - 0.05478 ln(PD))^{2} $\n",
        "\n",
        "\\\n",
        "\n",
        "$$ RWA \\space of \\space IRB = 12.5 \\cdot K \\cdot EAD $$\n",
        "\n",
        "\n",
        "$$ RWA \\space of \\space IRB  = RiskWeight \\cdot EAD $$\n",
        "\n",
        "**Risk Weight is assigned according to Chapter 3 OFSI**\n",
        "\n",
        "\\\n",
        "\n",
        "$$ Capital \\space Requirement \\space  = RWA * Capital Requirement Percentage $$\n",
        "\n",
        "\\\n",
        "\n",
        "For our bank $$Capital Requirement Percentage = 11.5 \\% $$\n",
        "\n",
        "\n"
      ]
    },
    {
      "cell_type": "code",
      "metadata": {
        "id": "0AbDt8LMtpwz",
        "colab_type": "code",
        "colab": {}
      },
      "source": [
        "## According to the Foundational Approach, \n",
        "## LGD for Bonds is 75% if we consider them all as subordinated bonds\n",
        "## So we assign the LGD for coperate bonds in the loop as well\n",
        "Bond['LGD'] = 0.75\n",
        "\n",
        "## For Retail Loans, the LGD are considered as 100% \n",
        "Loan['LGD'] = 1\n",
        "\n",
        "\n",
        "\n",
        "## Assign PD and LGD Floor to each business line\n",
        "## For Bonds and Retail Loans, since their default LGD is 75% abd 100% \n",
        "## respectively; therefore, LGD floor only applies to Mortgages\n",
        "## We will apply the LGD and PD floors in the process of calculation instead of \n",
        "## alterning the data \n",
        "PDfloor = 0.03/100\n",
        "LGDfloor = 0.10\n",
        "\n",
        "\n",
        "\n",
        "# Capital Requirement Percentage \n",
        "cap_req_percent = 11.5 /100\n",
        "\n",
        "\n",
        "#Formulas for calculate correaltion in different class of assets \n",
        "#Retail Exposures:\n",
        "import numpy as np\n",
        "def other_Retail_R (PD):\n",
        "  output = 0.03 * ( (1 - np.exp(-35 * PD)) / (1 - np.exp(-35)) )\n",
        "  output += 0.16 * (1 - ( (1 - np.exp(-35 * PD)) / (1 - np.exp(-35)) ) )\n",
        "  return output\n",
        "\n",
        "\n",
        "#Corporate Exposures\n",
        "\n",
        "def Coper_b (PD):\n",
        "  output = (0.11852 - 0.05478 * np.log(PD))**2\n",
        "  return output\n",
        "\n",
        "def Coper_R (PD):\n",
        "  output = 0.12 * ( (1 - np.exp(-50 * PD)) / (1 - np.exp(-50)) )\n",
        "  output += 0.24 * (1 - ( (1 - np.exp(-50 * PD)) / (1 - np.exp(-50)) ) )\n",
        "  return output\n",
        "\n",
        "#Function to calculate capital requirements for Bonds:\n",
        "\n",
        "def CapReq_Bond(LGD, PD, M):\n",
        "  from scipy.stats import norm\n",
        "  b = Coper_b (PD)\n",
        "  R = Coper_R (PD)\n",
        "  K = norm.cdf(np.sqrt( (1 - R) ** (-1) ) * norm.ppf(PD) + \n",
        "        np.sqrt( R / (1 - R) ) * norm.ppf(0.999) ) - PD\n",
        "  K *= LGD * ((1 + (M-2.5)*b)/(1-1.5*b))\n",
        "  return(K) \n",
        "  \n",
        "#Function to calculate capital requirements for Mortgages:\n",
        "  \n",
        "def CapReq_Morg(LGD, PD):\n",
        "  from scipy.stats import norm\n",
        "  R = 0.15\n",
        "  K = norm.cdf(np.sqrt( (1 - R) ** (-1) ) * norm.ppf(PD) + \n",
        "               np.sqrt( R / (1 - R) ) * norm.ppf(0.999) ) - PD\n",
        "  K *= LGD\n",
        "  return (K)\n",
        "\n",
        "#Function to calculate capital requirements for Other Retail Loan:\n",
        "\n",
        "def CapReq_other_Retail(LGD, PD):\n",
        "  from scipy.stats import norm\n",
        "  R = other_Retail_R (PD)\n",
        "  K = norm.cdf(np.sqrt( (1 - R) ** (-1) ) * norm.ppf(PD) + \n",
        "               np.sqrt( R / (1 - R) ) * norm.ppf(0.999) ) - PD\n",
        "  K *= LGD\n",
        "  return (K)\n",
        "\n",
        "\n",
        "\n",
        "\n",
        "\n",
        "\n",
        "########################################################\n",
        "########################################################\n",
        "##\n",
        "##\n",
        "##\n",
        "##    Standarized Risk Weight Constant\n",
        "##\n",
        "##\n",
        "#######################################################\n",
        "#######################################################\n",
        "\n",
        "\n",
        "#Function to Assign weight to according to bond's rating \n",
        "# Weight For AAA to AA- : 20%\n",
        "# Weight For A+ to A- : 50%\n",
        "# Weight For BBB+ to BB- : 100%\n",
        "# Weight For below B - : 150%\n",
        "def Weight_assign(PD):\n",
        "  if PD  <= 0.01:\n",
        "    weight = 20/100\n",
        "  elif (PD > 0.01) and (PD <= 0.12):\n",
        "    weight = 50/100\n",
        "  elif (PD > 0.12) and (PD <= 0.52):\n",
        "    weight = 100/100\n",
        "  else:\n",
        "    weight = 150/100\n",
        "    \n",
        "  return weight\n",
        "\n",
        "\n",
        "# Function to assign mortgages weights \n",
        "# (assume all mortgages are residential mortgages)\n",
        "# If LTV ratio < 80% : risk weight is 35%\n",
        "# If LTV ratio > 80%: risk weight is 75%\n",
        "\n",
        "def Weight_assign_Mortgage (loan, collateral):\n",
        "  if loan/collateral < 0.80:\n",
        "    weight = 0.35 \n",
        "  else:\n",
        "    weight = 0.75\n",
        "    \n",
        "  return weight \n",
        "\n",
        "\n",
        "# Weight for Other Retail Loans are a constant\n",
        "# defined as below 75%\n",
        "Weight_Retail_Loan = 0.75\n",
        "\n",
        "\n",
        "\n"
      ],
      "execution_count": null,
      "outputs": []
    },
    {
      "cell_type": "markdown",
      "metadata": {
        "id": "XP_yDpUHt6zl",
        "colab_type": "text"
      },
      "source": [
        "## 1.2.2 Calculate Provison and Capital Requirements in the Bond Business Line"
      ]
    },
    {
      "cell_type": "code",
      "metadata": {
        "id": "9y5k36kxNqSC",
        "colab_type": "code",
        "colab": {}
      },
      "source": [
        "Stop1 = max(Bond.id)\n",
        "#Initiate Empty List to record values \n",
        "Bond_Provison = []\n",
        "Bond_IRB_RWA = []\n",
        "Bond_IRB_Cap = []\n",
        "Bond_weight = []\n",
        "Bond_SA_RWA = []\n",
        "Bond_SA_Cap = []\n",
        "\n",
        "for index, row in Bond.iterrows():\n",
        "  if row['id'] <= Stop1:\n",
        "    # LGD floor and PD floor applies here\n",
        "    adjusted_PD = max(row['PD'],PDfloor)\n",
        "    adjusted_LGD = max(LGDfloor,row['LGD'])\n",
        "    Provison = row['TotalPrice']*adjusted_PD*adjusted_LGD\n",
        "    Bond_Provison.append(Provison)\n",
        "     \n",
        "    #RWA in F-IRB\n",
        "    Cap_Req = CapReq_Bond(adjusted_LGD, adjusted_PD, row['Time2Maturity'])\n",
        "    Cap_Req = Cap_Req * row['TotalPrice']\n",
        "    RWA_V = 12.5 * Cap_Req\n",
        "    Bond_IRB_RWA.append(RWA_V)\n",
        "    \n",
        "    #Capital Requirement in F-IRB\n",
        "    Final_Cap_Req = RWA_V * cap_req_percent\n",
        "    Bond_IRB_Cap.append(Final_Cap_Req)\n",
        "    \n",
        "    #Assign weight \n",
        "    weight_V = Weight_assign(row['PD'])\n",
        "    Bond_weight.append(weight_V)\n",
        "    \n",
        "    #RWA in Standized Approach\n",
        "    W_RWA_V = row['TotalPrice']  * weight_V\n",
        "    Bond_SA_RWA.append(W_RWA_V)\n",
        "    \n",
        "    #Capital Requirement in SA\n",
        "    Final_Cap_Req2 =  W_RWA_V * cap_req_percent\n",
        "    Bond_SA_Cap.append (Final_Cap_Req2)\n",
        "    \n",
        "    \n",
        "  else:\n",
        "    break\n",
        "\n",
        "    \n",
        "## Attach Saved result to data frame\n",
        "Bond['Bond_Provison'] = Bond_Provison\n",
        "Bond['Capital_Requirement_IRB'] = Bond_IRB_Cap\n",
        "Bond['IRB_RWA'] = Bond_IRB_RWA\n",
        "Bond['weight'] = Bond_weight\n",
        "Bond['SA_RWA'] = Bond_SA_RWA\n",
        "Bond['Capital_Requirement_SA'] = Bond_SA_Cap\n",
        "\n"
      ],
      "execution_count": null,
      "outputs": []
    },
    {
      "cell_type": "markdown",
      "metadata": {
        "id": "jVsxADkFuHMj",
        "colab_type": "text"
      },
      "source": [
        "## 1.2.3 Calculate Provison and capital Requirements in the Mortgage Business Line"
      ]
    },
    {
      "cell_type": "code",
      "metadata": {
        "id": "7mz7zYkzVjqs",
        "colab_type": "code",
        "colab": {}
      },
      "source": [
        "## Provision in the Mortgage Business Line\n",
        "\n",
        "\n",
        "## Function to Calculate the Remainning Balance\n",
        "def Rem_Bal (Principal, APR, Years, npaid):\n",
        "    monthly_interest = APR/ 12\n",
        "    payment_number = Years * 12\n",
        "    \n",
        "    #Calculate the Fixed Payment of Mortgage\n",
        "    monthly_payment = Principal*(monthly_interest/(1-(1+monthly_interest) \n",
        "                                                   **(- payment_number)))\n",
        "    \n",
        "    \n",
        "    #Calculate Unpaid Priciple\n",
        "    rem_bal = Principal * (1 - ((1 + monthly_interest) ** npaid - 1) / \n",
        "                           ((1 + monthly_interest) ** payment_number - 1))\n",
        "    \n",
        "    return rem_bal\n",
        "    \n",
        "\n",
        "## Calculation of Remaining Balance for Mortgages \n",
        "Stop2 = max(Mortgage.ID)\n",
        "Mortgage_Provison = []\n",
        "EAD = []\n",
        "Remaining_Bal = []\n",
        "Mortgage_IRB_RWA = []\n",
        "Mortgage_IRB_Cap= []\n",
        "Mortgage_weight = []\n",
        "Mortgage_SA_RWA = []\n",
        "Mortgage_SA_Cap = []\n",
        "\n",
        "for index, row in Mortgage.iterrows():\n",
        "  if row['ID'] <= Stop2:\n",
        "    # Calculate Remaining Balance \n",
        "    Remaning_Bal_V = Rem_Bal(row['OriginalAmount'], row['Rate'],row['TermYears']\n",
        "                             , row ['CurrentInstallment'])\n",
        "    Remaining_Bal.append(Remaning_Bal_V)\n",
        "    # Calculate the EAD \n",
        "    # If the collectral exceeds remaning balance, the EAD should be 0 \n",
        "    # instead of negative\n",
        "    EAD_V =  max(0, Remaning_Bal_V - row['Collateral_valuation'])\n",
        "    EAD.append(EAD_V)\n",
        "    # Calculate the Provison \n",
        "    # Applies PD and LGD Floor \n",
        "        \n",
        "    adjusted_PD = max(row['PD'],PDfloor)\n",
        "    adjusted_LGD = max(LGDfloor,row['LGD'])\n",
        "    \n",
        "    \n",
        "    Provison = EAD_V * adjusted_PD * adjusted_LGD\n",
        "    Mortgage_Provison.append(Provison)\n",
        "    \n",
        "    \n",
        "    # Risk Weighted Assets in IRB \n",
        "    Cap_Req = CapReq_Morg(adjusted_LGD,adjusted_PD)\n",
        "    Cap_Req = Cap_Req * EAD_V\n",
        "    RWA_V = 12.5 * Cap_Req\n",
        "    Mortgage_IRB_RWA.append(RWA_V)\n",
        "    \n",
        "    # Capital Requirement in IRB \n",
        "    Final_Cap_Req = RWA_V * cap_req_percent\n",
        "    Mortgage_IRB_Cap.append(Final_Cap_Req)\n",
        "\n",
        "    # Assign Weights to Mortgages\n",
        "    Loan_V = row['OriginalAmount']\n",
        "    Collateral_V = row['Collateral_valuation']\n",
        "    weight_V = Weight_assign_Mortgage (Loan_V, Collateral_V)\n",
        "    Mortgage_weight.append(weight_V)\n",
        "    \n",
        "    \n",
        "    # Calculate RWA using SA\n",
        "    W_RWA_V =  EAD_V * weight_V\n",
        "    Mortgage_SA_RWA.append(W_RWA_V)\n",
        "    \n",
        "    # Capital Requirement in SA\n",
        "    Final_Cap_Req2 = W_RWA_V * cap_req_percent\n",
        "    Mortgage_SA_Cap.append(Final_Cap_Req2)\n",
        "    \n",
        "    \n",
        "  else: \n",
        "    break \n",
        "      \n",
        "## Attach Saved result to data frame      \n",
        "Mortgage['EAD'] = EAD\n",
        "Mortgage['Unpaid_Bal'] = Remaining_Bal\n",
        "Mortgage['Provision'] = Mortgage_Provison\n",
        "Mortgage['Capital_Requirement_IRB'] = Mortgage_IRB_Cap\n",
        "Mortgage['IRB_RWA'] = Mortgage_IRB_RWA\n",
        "Mortgage['Weight'] = Mortgage_weight\n",
        "Mortgage['SA_RWA'] = Mortgage_SA_RWA\n",
        "Mortgage['Capital_Requirement_SA'] = Mortgage_SA_Cap\n"
      ],
      "execution_count": null,
      "outputs": []
    },
    {
      "cell_type": "markdown",
      "metadata": {
        "id": "G6ba0DsEua-9",
        "colab_type": "text"
      },
      "source": [
        "## 1.2.4 Calculate Provison and Capital Requirements in the Retail Loan Business Line"
      ]
    },
    {
      "cell_type": "code",
      "metadata": {
        "id": "Mm3mk8YAroX3",
        "colab_type": "code",
        "colab": {}
      },
      "source": [
        "## Provision in the Retail Loan Line\n",
        "\n",
        "\n",
        "## Function to Calculate the Remainning Balance for Loan\n",
        "## We assumes the loan terms are in months \n",
        "def Rem_Bal_Loan (Principal, APR, terms, npaid):\n",
        "    monthly_interest = APR/ 12\n",
        "    payment_number = terms\n",
        "    \n",
        "    # Calculate fixed payment amount \n",
        "    monthly_payment = Principal*(monthly_interest/(1-(1+monthly_interest) \n",
        "                                                   **(- payment_number)))\n",
        "    # give payments made\n",
        "    rem_bal = rem_bal = Principal * (1 - ((1 + monthly_interest) ** npaid - 1) / \n",
        "                           ((1 + monthly_interest) ** payment_number - 1))\n",
        "    \n",
        "    return rem_bal\n",
        "\n",
        "\n",
        "Stop3 = max(Loan.ID)\n",
        "EAD = []\n",
        "Loan_Provison = []\n",
        "Loan_IRB_RWA = []\n",
        "Loan_IRB_Cap = []\n",
        "Loan_SA_RWA = []\n",
        "Loan_SA_Cap = []\n",
        "\n",
        "for index, row in Loan.iterrows():\n",
        "  if row['ID'] <= Stop3:\n",
        "    #Calculate EAD = outstanding balance \n",
        "    EAD_V = Rem_Bal_Loan (row['OriginalAmount'],row['YearlyInterestRate'],\n",
        "                         row['Term'],row['CurrentInstallment'])\n",
        "    EAD.append(EAD_V)\n",
        "    \n",
        "    #Apply floors in LGD and PD\n",
        "    adjusted_PD = max(PDfloor, row['PD'])\n",
        "    adjusted_LGD = max(LGDfloor, row['LGD'])\n",
        "    \n",
        "    #Calculate the Provision\n",
        "    provinsion = EAD_V * adjusted_LGD * adjusted_PD\n",
        "    Loan_Provison.append(provinsion)\n",
        "    \n",
        "    #Calculate F-IRB RWA\n",
        "    Cap_Req =  CapReq_other_Retail(adjusted_LGD,adjusted_PD)\n",
        "    Cap_Req = Cap_Req * EAD_V    \n",
        "    RWA_V = 12.5 * Cap_Req\n",
        "    Loan_IRB_RWA.append(RWA_V)\n",
        "    \n",
        "    \n",
        "    #Calculate the IRB Capital Requirement\n",
        "    Final_Cap_Req = RWA_V * cap_req_percent\n",
        "    Loan_IRB_Cap.append(Final_Cap_Req)\n",
        "    \n",
        "    \n",
        "    #Calculate Loan_weighed_RWA \n",
        "    #Weight_Retail_Loan is a predefined constant 75%\n",
        "    W_RWA_V = EAD_V * Weight_Retail_Loan\n",
        "    Loan_SA_RWA.append(W_RWA_V)\n",
        "    \n",
        "    \n",
        "    #Calculate the SA Capital Requirement\n",
        "    Final_Cap_Req2 = W_RWA_V * cap_req_percent\n",
        "    Loan_SA_Cap.append(Final_Cap_Req2)\n",
        "\n",
        "    \n",
        "  else:\n",
        "    break \n",
        "    \n",
        "    \n",
        "## Attach Saved result to data frame    \n",
        "Loan['EAD'] = EAD\n",
        "Loan['Provision'] = Loan_Provison\n",
        "Loan['IRB_RWA'] = Loan_IRB_RWA\n",
        "Loan['SA_RWA'] = Loan_SA_RWA\n",
        "Loan['Capital_Requirement_SA'] = Loan_SA_Cap\n",
        "Loan['Capital_Requirement_IRB'] = Loan_IRB_Cap\n",
        "    \n",
        "    \n",
        "    \n",
        "    \n",
        "    \n",
        "    \n",
        "    \n",
        "    \n",
        "    \n",
        "    "
      ],
      "execution_count": null,
      "outputs": []
    },
    {
      "cell_type": "markdown",
      "metadata": {
        "id": "xxZRAP1MLMbG",
        "colab_type": "text"
      },
      "source": [
        "##1.2.5 Extract the Calculation Result"
      ]
    },
    {
      "cell_type": "code",
      "metadata": {
        "id": "yAyqljVbrysY",
        "colab_type": "code",
        "colab": {
          "base_uri": "https://localhost:8080/",
          "height": 119
        },
        "outputId": "2c37b430-65f4-42c4-9242-0c1e7bef27af"
      },
      "source": [
        "#Extract Provision and Capital Requirement under F-IRB Approach for Bond \n",
        "print (sum(Bond['Bond_Provison']))\n",
        "print (sum(Bond['Capital_Requirement_IRB']))\n",
        "\n",
        "\n",
        "#Extract Provision and Capital Requirement under F-IRB Approach for Mortgages\n",
        "print(sum(Mortgage['Provision']))\n",
        "print(sum(Mortgage['Capital_Requirement_IRB']))\n",
        "\n",
        "\n",
        "\n",
        "#Extract Provision and Capital Requirement under F-IRB Approach for Loans\n",
        "print(sum(Loan['Provision']))\n",
        "print(sum(Loan['Capital_Requirement_IRB']))\n",
        "\n",
        "\n"
      ],
      "execution_count": null,
      "outputs": [
        {
          "output_type": "stream",
          "text": [
            "9858989107.772062\n",
            "20092672282.9325\n",
            "512264202.8959211\n",
            "755794845.1596057\n",
            "25753739.259888496\n",
            "18518438.115086857\n"
          ],
          "name": "stdout"
        }
      ]
    },
    {
      "cell_type": "markdown",
      "metadata": {
        "id": "usXSuCKWmLad",
        "colab_type": "text"
      },
      "source": [
        "#1.3 Calculate The RWA under IRB Approach and Standerized Approach  "
      ]
    },
    {
      "cell_type": "markdown",
      "metadata": {
        "id": "9IMczdS8NIZv",
        "colab_type": "text"
      },
      "source": [
        "Because all th result was already calculated through the loop in Section 1.2, we just need to extract them out"
      ]
    },
    {
      "cell_type": "code",
      "metadata": {
        "id": "5MnZVbCl9Rbc",
        "colab_type": "code",
        "colab": {
          "base_uri": "https://localhost:8080/",
          "height": 85
        },
        "outputId": "f62c1d24-520e-49fd-91f4-48add531053b"
      },
      "source": [
        "##Calculate the Total RWA under IRB Approach \n",
        "Total_Bond_IRB_RWA = sum(Bond.IRB_RWA)\n",
        "Total_M_IRB_RWA = sum(Mortgage.IRB_RWA)\n",
        "Total_Loan_IRB_RWA = sum(Loan.IRB_RWA)\n",
        "Total_IRB_RWA = Total_Loan_IRB_RWA + Total_M_IRB_RWA + Total_Bond_IRB_RWA\n",
        "print(Total_IRB_RWA)\n",
        "print((Total_IRB_RWA* 11.5/100))\n",
        "\n",
        "##Calculate the Total RWA under SA Approach \n",
        "Total_Bond_SA_RWA = sum(Bond.SA_RWA)\n",
        "Total_M_SA_RWA = sum(Mortgage.SA_RWA)\n",
        "Total_Loan_SA_RWA = sum(Loan.SA_RWA)\n",
        "Total_SA_RWA = Total_Bond_SA_RWA + Total_M_SA_RWA + Total_Loan_SA_RWA\n",
        "print (Total_SA_RWA)\n",
        "print((Total_SA_RWA * 11.5/100))\n",
        "\n",
        "\n"
      ],
      "execution_count": null,
      "outputs": [
        {
          "output_type": "stream",
          "text": [
            "181452048401.8026\n",
            "20866985566.2073\n",
            "44443105660.24057\n",
            "5110957150.927666\n"
          ],
          "name": "stdout"
        }
      ]
    }
  ]
}